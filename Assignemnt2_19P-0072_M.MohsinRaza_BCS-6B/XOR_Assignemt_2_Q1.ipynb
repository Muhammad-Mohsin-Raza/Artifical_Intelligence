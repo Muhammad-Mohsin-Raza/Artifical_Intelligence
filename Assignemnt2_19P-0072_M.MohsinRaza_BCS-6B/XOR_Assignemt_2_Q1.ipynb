{
 "cells": [
  {
   "cell_type": "code",
   "execution_count": 52,
   "id": "c7f87663",
   "metadata": {},
   "outputs": [],
   "source": [
    "import pandas as pd\n",
    "import numpy as np"
   ]
  },
  {
   "cell_type": "code",
   "execution_count": 53,
   "id": "022a3916",
   "metadata": {},
   "outputs": [],
   "source": [
    "d=[[0,0,0], [0,1,1],[1,0,1], [1,1,0]]\n",
    "c=['A','B','A XOR B']"
   ]
  },
  {
   "cell_type": "code",
   "execution_count": 54,
   "id": "e6c0c7c2",
   "metadata": {},
   "outputs": [],
   "source": [
    "data = pd.DataFrame(d,columns=c)"
   ]
  },
  {
   "cell_type": "code",
   "execution_count": 55,
   "id": "be1b9ee4",
   "metadata": {},
   "outputs": [
    {
     "data": {
      "text/html": [
       "<div>\n",
       "<style scoped>\n",
       "    .dataframe tbody tr th:only-of-type {\n",
       "        vertical-align: middle;\n",
       "    }\n",
       "\n",
       "    .dataframe tbody tr th {\n",
       "        vertical-align: top;\n",
       "    }\n",
       "\n",
       "    .dataframe thead th {\n",
       "        text-align: right;\n",
       "    }\n",
       "</style>\n",
       "<table border=\"1\" class=\"dataframe\">\n",
       "  <thead>\n",
       "    <tr style=\"text-align: right;\">\n",
       "      <th></th>\n",
       "      <th>A</th>\n",
       "      <th>B</th>\n",
       "      <th>A XOR B</th>\n",
       "    </tr>\n",
       "  </thead>\n",
       "  <tbody>\n",
       "    <tr>\n",
       "      <th>0</th>\n",
       "      <td>0</td>\n",
       "      <td>0</td>\n",
       "      <td>0</td>\n",
       "    </tr>\n",
       "    <tr>\n",
       "      <th>1</th>\n",
       "      <td>0</td>\n",
       "      <td>1</td>\n",
       "      <td>1</td>\n",
       "    </tr>\n",
       "    <tr>\n",
       "      <th>2</th>\n",
       "      <td>1</td>\n",
       "      <td>0</td>\n",
       "      <td>1</td>\n",
       "    </tr>\n",
       "    <tr>\n",
       "      <th>3</th>\n",
       "      <td>1</td>\n",
       "      <td>1</td>\n",
       "      <td>0</td>\n",
       "    </tr>\n",
       "  </tbody>\n",
       "</table>\n",
       "</div>"
      ],
      "text/plain": [
       "   A  B  A XOR B\n",
       "0  0  0        0\n",
       "1  0  1        1\n",
       "2  1  0        1\n",
       "3  1  1        0"
      ]
     },
     "execution_count": 55,
     "metadata": {},
     "output_type": "execute_result"
    }
   ],
   "source": [
    "data"
   ]
  },
  {
   "cell_type": "code",
   "execution_count": 56,
   "id": "b1c160bf",
   "metadata": {},
   "outputs": [],
   "source": [
    "X_train=data[['A','B']]"
   ]
  },
  {
   "cell_type": "code",
   "execution_count": 57,
   "id": "28015af5",
   "metadata": {},
   "outputs": [],
   "source": [
    "Y_train=data['A XOR B']"
   ]
  },
  {
   "cell_type": "code",
   "execution_count": 58,
   "id": "d5994003",
   "metadata": {},
   "outputs": [],
   "source": [
    "X_train= np.array(X_train)\n",
    "Y_train=np.array(Y_train)"
   ]
  },
  {
   "cell_type": "code",
   "execution_count": 62,
   "id": "9e7e555b",
   "metadata": {},
   "outputs": [
    {
     "data": {
      "text/plain": [
       "array([[0, 0, 1, 1],\n",
       "       [0, 1, 0, 1]])"
      ]
     },
     "execution_count": 62,
     "metadata": {},
     "output_type": "execute_result"
    }
   ],
   "source": [
    "X_train=X_train.T\n",
    "X_train"
   ]
  },
  {
   "cell_type": "code",
   "execution_count": 63,
   "id": "6717e9fc",
   "metadata": {},
   "outputs": [
    {
     "data": {
      "text/plain": [
       "((2, 4), (1, 2))"
      ]
     },
     "execution_count": 63,
     "metadata": {},
     "output_type": "execute_result"
    }
   ],
   "source": [
    "X_train.shape,W.T.shape"
   ]
  },
  {
   "cell_type": "code",
   "execution_count": 88,
   "id": "7502e038",
   "metadata": {},
   "outputs": [],
   "source": [
    "def sigmoid(z):\n",
    "    return 1/(1+np.exp(-z))"
   ]
  },
  {
   "cell_type": "code",
   "execution_count": 72,
   "id": "de4b041e",
   "metadata": {},
   "outputs": [
    {
     "data": {
      "text/plain": [
       "4"
      ]
     },
     "execution_count": 72,
     "metadata": {},
     "output_type": "execute_result"
    }
   ],
   "source": [
    "numOfTrainSamples=X_train.shape[1]\n",
    "numOfTrainSamples"
   ]
  },
  {
   "cell_type": "code",
   "execution_count": 79,
   "id": "8bcdae1d",
   "metadata": {},
   "outputs": [
    {
     "data": {
      "text/plain": [
       "array([[-1.01453457,  0.09686897, -1.91265961, -0.80125607]])"
      ]
     },
     "execution_count": 79,
     "metadata": {},
     "output_type": "execute_result"
    }
   ],
   "source": [
    "np.dot(W.T, X_train)+b"
   ]
  },
  {
   "cell_type": "code",
   "execution_count": 81,
   "id": "b785fa7d",
   "metadata": {},
   "outputs": [],
   "source": [
    "from sklearn.metrics import log_loss"
   ]
  },
  {
   "cell_type": "code",
   "execution_count": 82,
   "id": "f4c6aff2",
   "metadata": {},
   "outputs": [
    {
     "data": {
      "text/plain": [
       "array([0, 1, 1, 0])"
      ]
     },
     "execution_count": 82,
     "metadata": {},
     "output_type": "execute_result"
    }
   ],
   "source": [
    "Y_train"
   ]
  },
  {
   "cell_type": "code",
   "execution_count": 83,
   "id": "46ad3b19",
   "metadata": {},
   "outputs": [],
   "source": [
    "Y_train=np.expand_dims(Y_train,axis=0)"
   ]
  },
  {
   "cell_type": "code",
   "execution_count": 149,
   "id": "1b5d036a",
   "metadata": {},
   "outputs": [],
   "source": [
    "W=np.random.randn(2,1)"
   ]
  },
  {
   "cell_type": "code",
   "execution_count": 150,
   "id": "7a601535",
   "metadata": {},
   "outputs": [
    {
     "data": {
      "text/plain": [
       "array([[ 0.01895371],\n",
       "       [-0.81488242]])"
      ]
     },
     "execution_count": 150,
     "metadata": {},
     "output_type": "execute_result"
    }
   ],
   "source": [
    "W"
   ]
  },
  {
   "cell_type": "code",
   "execution_count": 151,
   "id": "c262577a",
   "metadata": {},
   "outputs": [
    {
     "data": {
      "text/plain": [
       "1.3482823715966896"
      ]
     },
     "execution_count": 151,
     "metadata": {},
     "output_type": "execute_result"
    }
   ],
   "source": [
    "b=np.random.randn()\n",
    "b"
   ]
  },
  {
   "cell_type": "code",
   "execution_count": 152,
   "id": "02b40510",
   "metadata": {},
   "outputs": [
    {
     "name": "stdout",
     "output_type": "stream",
     "text": [
      "[[1 1 1 1]]\n",
      "error:  2.772588722239781\n",
      "[[1 1 1 1]]\n",
      "error:  2.772588722239781\n",
      "[[1 1 1 1]]\n",
      "error:  2.772588722239781\n",
      "[[1 1 1 1]]\n",
      "error:  2.772588722239781\n",
      "[[1 1 1 1]]\n",
      "error:  2.772588722239781\n",
      "[[1 1 1 1]]\n",
      "error:  2.772588722239781\n",
      "[[1 1 1 1]]\n",
      "error:  2.772588722239781\n",
      "[[1 1 1 1]]\n",
      "error:  2.772588722239781\n",
      "[[1 1 1 1]]\n",
      "error:  2.772588722239781\n",
      "[[1 1 1 1]]\n",
      "error:  2.772588722239781\n",
      "[[1 1 1 1]]\n",
      "error:  2.772588722239781\n",
      "[[1 1 1 1]]\n",
      "error:  2.772588722239781\n",
      "[[1 1 1 1]]\n",
      "error:  2.772588722239781\n",
      "[[1 1 1 1]]\n",
      "error:  2.772588722239781\n",
      "[[1 1 1 1]]\n",
      "error:  2.772588722239781\n",
      "[[1 1 1 1]]\n",
      "error:  2.772588722239781\n",
      "[[1 1 1 1]]\n",
      "error:  2.772588722239781\n",
      "[[1 1 1 1]]\n",
      "error:  2.772588722239781\n",
      "[[1 1 1 1]]\n",
      "error:  2.772588722239781\n",
      "[[1 1 1 1]]\n",
      "error:  2.772588722239781\n",
      "[[1 1 1 1]]\n",
      "error:  2.772588722239781\n",
      "[[1 1 1 1]]\n",
      "error:  2.772588722239781\n",
      "[[1 1 1 1]]\n",
      "error:  2.772588722239781\n",
      "[[1 1 1 1]]\n",
      "error:  2.772588722239781\n",
      "[[1 1 1 1]]\n",
      "error:  2.772588722239781\n",
      "[[1 1 1 1]]\n",
      "error:  2.772588722239781\n",
      "[[1 1 1 1]]\n",
      "error:  2.772588722239781\n",
      "[[1 1 1 1]]\n",
      "error:  2.772588722239781\n",
      "[[1 1 1 1]]\n",
      "error:  2.772588722239781\n",
      "[[1 1 1 1]]\n",
      "error:  2.772588722239781\n",
      "[[1 1 1 1]]\n",
      "error:  2.772588722239781\n",
      "[[1 1 1 1]]\n",
      "error:  2.772588722239781\n",
      "[[1 1 1 1]]\n",
      "error:  2.772588722239781\n",
      "[[1 1 1 1]]\n",
      "error:  2.772588722239781\n",
      "[[1 1 1 1]]\n",
      "error:  2.772588722239781\n",
      "[[1 1 1 1]]\n",
      "error:  2.772588722239781\n",
      "[[1 1 1 1]]\n",
      "error:  2.772588722239781\n",
      "[[1 1 1 1]]\n",
      "error:  2.772588722239781\n",
      "[[1 1 1 1]]\n",
      "error:  2.772588722239781\n",
      "[[1 1 1 1]]\n",
      "error:  2.772588722239781\n",
      "[[1 1 1 1]]\n",
      "error:  2.772588722239781\n",
      "[[1 1 1 1]]\n",
      "error:  2.772588722239781\n",
      "[[1 1 1 1]]\n",
      "error:  2.772588722239781\n",
      "[[1 1 1 1]]\n",
      "error:  2.772588722239781\n",
      "[[1 1 1 1]]\n",
      "error:  2.772588722239781\n",
      "[[1 1 1 1]]\n",
      "error:  2.772588722239781\n",
      "[[1 1 1 1]]\n",
      "error:  2.772588722239781\n",
      "[[1 1 1 1]]\n",
      "error:  2.772588722239781\n",
      "[[1 1 1 1]]\n",
      "error:  2.772588722239781\n",
      "[[1 1 1 1]]\n",
      "error:  2.772588722239781\n",
      "[[1 1 1 1]]\n",
      "error:  2.772588722239781\n",
      "[[1 1 1 1]]\n",
      "error:  2.772588722239781\n",
      "[[1 1 1 1]]\n",
      "error:  2.772588722239781\n",
      "[[1 1 1 1]]\n",
      "error:  2.772588722239781\n",
      "[[1 1 1 1]]\n",
      "error:  2.772588722239781\n",
      "[[1 1 1 1]]\n",
      "error:  2.772588722239781\n",
      "[[1 1 1 1]]\n",
      "error:  2.772588722239781\n",
      "[[1 1 1 1]]\n",
      "error:  2.772588722239781\n",
      "[[1 1 1 1]]\n",
      "error:  2.772588722239781\n",
      "[[1 1 1 1]]\n",
      "error:  2.772588722239781\n",
      "[[1 1 1 1]]\n",
      "error:  2.772588722239781\n",
      "[[1 1 1 1]]\n",
      "error:  2.772588722239781\n",
      "[[1 1 1 1]]\n",
      "error:  2.772588722239781\n",
      "[[1 1 1 1]]\n",
      "error:  2.772588722239781\n",
      "[[1 1 1 1]]\n",
      "error:  2.772588722239781\n",
      "[[1 1 1 1]]\n",
      "error:  2.772588722239781\n",
      "[[1 1 1 1]]\n",
      "error:  2.772588722239781\n",
      "[[1 1 1 1]]\n",
      "error:  2.772588722239781\n",
      "[[1 1 1 1]]\n",
      "error:  2.772588722239781\n",
      "[[1 1 1 1]]\n",
      "error:  2.772588722239781\n",
      "[[1 1 1 1]]\n",
      "error:  2.772588722239781\n",
      "[[1 1 1 1]]\n",
      "error:  2.772588722239781\n",
      "[[1 1 1 1]]\n",
      "error:  2.772588722239781\n",
      "[[1 1 1 1]]\n",
      "error:  2.772588722239781\n",
      "[[1 1 1 1]]\n",
      "error:  2.772588722239781\n",
      "[[1 1 1 1]]\n",
      "error:  2.772588722239781\n",
      "[[1 1 1 1]]\n",
      "error:  2.772588722239781\n",
      "[[1 1 1 1]]\n",
      "error:  2.772588722239781\n",
      "[[1 1 1 1]]\n",
      "error:  2.772588722239781\n",
      "[[1 1 1 1]]\n",
      "error:  2.772588722239781\n",
      "[[1 1 1 1]]\n",
      "error:  2.772588722239781\n",
      "[[1 1 1 1]]\n",
      "error:  2.772588722239781\n",
      "[[1 1 1 1]]\n",
      "error:  2.772588722239781\n",
      "[[1 1 1 1]]\n",
      "error:  2.772588722239781\n",
      "[[1 1 1 1]]\n",
      "error:  2.772588722239781\n",
      "[[1 1 1 1]]\n",
      "error:  2.772588722239781\n",
      "[[1 1 1 1]]\n",
      "error:  2.772588722239781\n",
      "[[1 1 1 1]]\n",
      "error:  2.772588722239781\n",
      "[[1 1 1 1]]\n",
      "error:  2.772588722239781\n",
      "[[1 1 1 1]]\n",
      "error:  2.772588722239781\n",
      "[[1 1 1 1]]\n",
      "error:  2.772588722239781\n",
      "[[1 1 1 0]]\n",
      "error:  2.19722457733622\n",
      "[[1 1 1 0]]\n",
      "error:  2.19722457733622\n",
      "[[1 1 1 0]]\n",
      "error:  2.19722457733622\n",
      "[[1 1 1 0]]\n",
      "error:  2.19722457733622\n",
      "[[1 1 1 0]]\n",
      "error:  2.19722457733622\n",
      "[[1 1 1 0]]\n",
      "error:  2.19722457733622\n",
      "[[1 1 1 0]]\n",
      "error:  2.19722457733622\n",
      "[[1 1 1 0]]\n",
      "error:  2.19722457733622\n",
      "[[1 1 1 0]]\n",
      "error:  2.19722457733622\n"
     ]
    }
   ],
   "source": [
    "a=0.01\n",
    "for i in range(100):\n",
    "    #--- Accumulation\n",
    "    Z=np.dot(W.T,X_train)+b\n",
    "#     print(Z)\n",
    "    #--- Activation Fun\n",
    "    A=sigmoid(Z)\n",
    "    \n",
    "#     #--- Normalize to 1,0\n",
    "    A=np.where(A<0.5,0,1)\n",
    "    print(A)\n",
    "    #--- Errror\n",
    "    error=log_loss(Y_train,A)\n",
    "    print('error: ',error)\n",
    "#     # gradient decsent\n",
    "    dz=A-Z\n",
    "    dw=np.dot(X_train,dz.T)/numOfTrainSamples\n",
    "    db=np.sum(dz,axis=1)/numOfTrainSamples\n",
    "    \n",
    "    W=W-a*dw\n",
    "    b=b-a*db\n",
    "    "
   ]
  },
  {
   "cell_type": "code",
   "execution_count": 160,
   "id": "c962bfdf",
   "metadata": {},
   "outputs": [],
   "source": [
    "#------ Converged weight vectors found using gradient descent-----#\n",
    "converged_weight_vectors=np.array([[-0.0655864 ],[-1.13591921]])"
   ]
  },
  {
   "cell_type": "code",
   "execution_count": 167,
   "id": "4b7f3be4",
   "metadata": {},
   "outputs": [],
   "source": [
    "converged_biased_weight_vector=np.array([1.16386414])"
   ]
  },
  {
   "cell_type": "code",
   "execution_count": 168,
   "id": "a6ff9048",
   "metadata": {},
   "outputs": [
    {
     "name": "stdout",
     "output_type": "stream",
     "text": [
      "[[1 1 1 0]]\n"
     ]
    }
   ],
   "source": [
    "#----- Just testing to see output----#\n",
    "Z=np.dot(converged_weight_vectors.T,X_train)+converged_biased_weight_vector\n",
    "    #--- Activation Fun\n",
    "A=sigmoid(Z)\n",
    "    \n",
    "#--- Normalize to 1,0\n",
    "A=np.where(A<0.5,0,1)\n",
    "print(A)"
   ]
  }
 ],
 "metadata": {
  "kernelspec": {
   "display_name": "Python 3 (ipykernel)",
   "language": "python",
   "name": "python3"
  },
  "language_info": {
   "codemirror_mode": {
    "name": "ipython",
    "version": 3
   },
   "file_extension": ".py",
   "mimetype": "text/x-python",
   "name": "python",
   "nbconvert_exporter": "python",
   "pygments_lexer": "ipython3",
   "version": "3.9.7"
  }
 },
 "nbformat": 4,
 "nbformat_minor": 5
}
